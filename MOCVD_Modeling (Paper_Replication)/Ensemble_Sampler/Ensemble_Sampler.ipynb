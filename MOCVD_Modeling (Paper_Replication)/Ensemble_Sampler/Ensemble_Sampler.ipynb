{
 "cells": [
  {
   "cell_type": "code",
   "execution_count": null,
   "id": "9fd5f638-6189-44dc-a20c-b51729ddcf99",
   "metadata": {},
   "outputs": [],
   "source": [
    "Temp = np.array([530,580,630,650,680])\n",
    "x = -1000/(np.array(Temp))\n",
    "JV_exp =np.loadtxt('/mnt/c/Users/pssrg/Downloads/GaAs_exp_nJV.txt')\n",
    "par = np.loadtxt(\"/mnt/c/Users/pssrg/Downloads/GaAs_sim_label.txt\")\n",
    "plt.plot(JV_exp[0,:])\n",
    "plt.xlabel('voltage (a.u.)')\n",
    "plt.ylabel('current (a.u.)')"
   ]
  },
  {
   "cell_type": "code",
   "execution_count": null,
   "id": "a4f57787-3cd4-4b49-82d8-efefc6ba9dfc",
   "metadata": {},
   "outputs": [],
   "source": [
    "def log_norm_pdf(y,mu,sigma):\n",
    "    return -0.5*np.sum((y-mu)**2/sigma)+np.log(sigma)\n",
    "\n",
    "#define the logprobability based on Arrhenius equation \n",
    "\n",
    "def log_probability(theta,x,y,sigma):\n",
    "    a1,b1, c1, a2,b2,c2, a3,b3,c3, a4,b4,c4, a5,b5,c5 = theta\n",
    "    emitter_doping = a1*np.log(-1/x)+b1*x+c1\n",
    "    back_doping = a2*np.log(-1/x)+b2*x+c2\n",
    "    tau = (a3*np.log(-1/x)+b3*x+c3)\n",
    "    fsrv = (a4*np.log(-1/x)+b4*x+c4)\n",
    "    rsrv = (a5*np.log(-1/x)+b5*x+c5)\n",
    "       \n",
    "    #stack all 5 materail descriptors\n",
    "    par_input = 10*np.stack((emitter_doping,back_doping,tau,fsrv,rsrv),axis=-1)\n",
    "    coeff = [a1,b1,c1,a2,b2,c2,a3,b3,c3,a4,b4,c4,a5,b5,c5]\n",
    "    \n",
    "    #setting prior and constraints\n",
    "    if all(-10<x<10 for x in coeff) and max(np.abs(coeff[0::3]))<5:\n",
    "    \n",
    "        if np.max(par_input)<1 and np.min(par_input)>0:\n",
    "            sim_curves= reg.predict(par_input)       \n",
    "        \n",
    "            return log_norm_pdf(sim_curves, y,sigma)\n",
    "        return -np.inf\n",
    "    return -np.inf\n",
    "    \n",
    "def logp(x):\n",
    "    return 0.0 \n",
    "def log_prob(theta):\n",
    "    return log_probability(theta, x, JV_exp, sigma)"
   ]
  },
  {
   "cell_type": "code",
   "execution_count": null,
   "id": "cdbe57f2-e8d2-4bea-81de-d5f2fe1ac1ab",
   "metadata": {},
   "outputs": [],
   "source": [
    "par = log10_ln(par)\n",
    "\n",
    "\n",
    "#Normalize JV descriptors column-wise\n",
    "scaler = MinMaxScaler()\n",
    "\n",
    "par_n = scaler.fit_transform(par)   \n"
   ]
  },
  {
   "cell_type": "code",
   "execution_count": null,
   "id": "2a6f48bf-0618-4730-8436-e389d35b1624",
   "metadata": {},
   "outputs": [],
   "source": [
    "###########################---First-Chain---###############################"
   ]
  },
  {
   "cell_type": "code",
   "execution_count": null,
   "id": "dac923ae-c67e-4786-9f11-b2a2d5b70eff",
   "metadata": {},
   "outputs": [],
   "source": [
    "ndim = 15          \n",
    "nwalkers = 64      \n",
    "nruns = 2000  \n",
    "sigma = 1e-6        \n",
    "\n",
    "initial = np.tile([0, 0, 0.5], 5)/10 + 1e-4*np.random.randn(nwalkers, ndim)\n",
    "\n",
    "sampler = emcee.EnsembleSampler(nwalkers, ndim, log_prob)\n",
    "\n",
    "sampler.run_mcmc(initial, nruns, progress=True)\n",
    "samples = sampler.get_chain()             # Shape: (nruns, nwalkers, ndim)\n",
    "#flat_samples = sampler.get_chain(discard=100, thin=10, flat=True)  "
   ]
  },
  {
   "cell_type": "code",
   "execution_count": null,
   "id": "378aba08-02b3-45f9-b07b-10aab834fc02",
   "metadata": {},
   "outputs": [],
   "source": [
    "import pickle\n",
    "with open(\"sampler.pkl\", \"wb\") as f:\n",
    "    pickle.dump(sampler, f)"
   ]
  },
  {
   "cell_type": "code",
   "execution_count": null,
   "id": "0261b600-752d-4b6e-a718-02c9c0220cac",
   "metadata": {},
   "outputs": [],
   "source": [
    "import pickle\n",
    "with open(\"sampler.pkl\", \"rb\") as f:\n",
    "    sampler = pickle.load(f)\n",
    "    samples = sampler.get_chain()   "
   ]
  },
  {
   "cell_type": "code",
   "execution_count": null,
   "id": "e4b4c915-b5e1-4557-8ace-d657ac571e50",
   "metadata": {},
   "outputs": [],
   "source": [
    "###########################---Second-Chain---###############################"
   ]
  },
  {
   "cell_type": "code",
   "execution_count": null,
   "id": "2bc0e394-cb9f-4c71-981e-2a78951a9cc5",
   "metadata": {},
   "outputs": [],
   "source": [
    "pos_update = good_walkers[-1, :, :] + 1e-5 * np.random.randn(35, 15)\n",
    "\n",
    "extra_walker = pos_update[0] + 1e-4 * np.random.randn(1, pos_update.shape[1])\n",
    "pos_update = np.concatenate([pos_update, extra_walker], axis=0)  \n",
    "# Reset and run second chain\n",
    "sampler_ = emcee.EnsembleSampler(36, 15, log_prob)\n",
    "sampler_.run_mcmc(pos_update, 1000, progress=True)"
   ]
  },
  {
   "cell_type": "code",
   "execution_count": null,
   "id": "d50751ce-5ff8-4535-9efd-ff81b708410e",
   "metadata": {},
   "outputs": [],
   "source": [
    "with open(\"sampler_.pkl\", \"wb\") as f:\n",
    "    pickle.dump(sampler, f)"
   ]
  },
  {
   "cell_type": "code",
   "execution_count": null,
   "id": "95ae533e-d01f-493a-8389-0391ae92558e",
   "metadata": {},
   "outputs": [],
   "source": [
    "import pickle\n",
    "with open(\"sampler_.pkl\", \"rb\") as f:\n",
    "    sampler_ = pickle.load(f)\n",
    "    samples = sampler_.get_chain()             "
   ]
  },
  {
   "cell_type": "code",
   "execution_count": null,
   "id": "7f1ad465-599a-4e0f-aff5-a2c74b841e57",
   "metadata": {},
   "outputs": [],
   "source": [
    "###########"
   ]
  },
  {
   "cell_type": "code",
   "execution_count": null,
   "id": "dac07997-9c34-4a72-9aaf-6db14233deca",
   "metadata": {},
   "outputs": [],
   "source": [
    "#samples = sampler.get_chain()  # shape: (nruns, nwalkers, ndim)\n",
    "samples = sampler.get_chain()\n",
    "flat_samples = sampler.get_chain(flat=True)  # shape: (nruns * nwalkers, ndim)\n",
    "log_probs = sampler.get_log_prob()  # shape: (nruns, nwalkers)\n",
    "flat_log_probs = sampler.get_log_prob(flat=True)  # shape: (nruns * nwalkers,)\n",
    "zero_flat_samples = flat_samples[:,:]\n",
    "zero_samples = samples[:,:,:]\n",
    "zero_flat_loss = sampler.lnprobability[:,:]\n",
    "plt.figure()\n",
    "plt.plot(-1*log_probs[:,1])\n",
    "plt.xlabel('run number')\n",
    "plt.ylabel('loss')"
   ]
  },
  {
   "cell_type": "code",
   "execution_count": null,
   "id": "28cf9ddd-c69d-4d6d-80e6-ecdd1d8bb6df",
   "metadata": {},
   "outputs": [],
   "source": [
    "def check_plot(theta,x,sim):\n",
    "    \n",
    "    a1,b1,c1, a2,b2,c2, a3,b3,c3, a4,b4,c4, a5,b5,c5 = theta\n",
    "    emitter_doping = a1*np.log(-1/x)+b1*x+c1\n",
    "    back_doping = a2*np.log(-1/x)+b2*x+c2\n",
    "    tau = (a3*np.log(-1/x)+b3*x+c3)\n",
    "    fsrv = (a4*np.log(-1/x)+b4*x+c4)\n",
    "    rsrv = (a5*np.log(-1/x)+b5*x+c5)\n",
    "\n",
    "    \n",
    "    \n",
    "    par_input = 10*np.stack((emitter_doping,back_doping,tau,fsrv,rsrv),axis=-1)\n",
    "    if sim == 0 :\n",
    "        unnorm_par = scaler.inverse_transform(par_input)\n",
    "        return par_input,unnorm_par\n",
    "        \n",
    "    sim_curves= reg.predict(par_input)\n",
    "           \n",
    "  \n",
    "    return sim_curves, par_input\n",
    "\n"
   ]
  },
  {
   "cell_type": "code",
   "execution_count": null,
   "id": "9b2c91e7-ff79-4e34-ac34-baefee98139e",
   "metadata": {},
   "outputs": [],
   "source": [
    "###############-Mean-of-most-probable-values-across-all-walkers-###############"
   ]
  },
  {
   "cell_type": "code",
   "execution_count": null,
   "id": "68e3d515-8d7d-4f49-8f07-61d787655351",
   "metadata": {},
   "outputs": [],
   "source": [
    "walker_maps = []\n",
    "\n",
    "for w in range(samples.shape[1]):  # loop over walkers\n",
    "    log_probs_walker = log_probs[:, w]  # shape: (n_steps,)\n",
    "    samples_walker = samples[:, w, :]   # shape: (n_steps, ndim)\n",
    "\n",
    "    # Find index of maximum log-probability for this walker\n",
    "    idx_map = np.argmax(log_probs_walker)\n",
    "    \n",
    "    # Store corresponding parameter vector\n",
    "    walker_maps.append(samples_walker[idx_map])\n",
    "\n",
    "# Convert to NumPy array (shape: n_walkers × ndim)\n",
    "walker_maps = np.array(walker_maps)\n",
    "\n",
    "# Now take mean across walkers\n",
    "mean_map_across_walkers = np.mean(walker_maps, axis=0)  # shape: (ndim,)"
   ]
  },
  {
   "cell_type": "code",
   "execution_count": null,
   "id": "6553edb5-375f-4b22-8dc1-7b4754ef6f86",
   "metadata": {},
   "outputs": [],
   "source": [
    "print(mean_map_across_walkers )"
   ]
  },
  {
   "cell_type": "code",
   "execution_count": null,
   "id": "8b83a3e0-8935-45c4-9ac9-0d4f3cd5c876",
   "metadata": {},
   "outputs": [],
   "source": [
    "x_step = np.linspace(min(x), max(x), 50)\n",
    "sim_JVs, _ = check_plot(mean_map_across_walkers,x,1)\n",
    "fig, ax = plt.subplots(5, 1, figsize=(8, 10))\n",
    "for i in range(5):\n",
    "    ax[i].plot(sim_JVs[i, :], '--', label='Simulated')\n",
    "    ax[i].plot(JV_exp[i, :], label='Experimental')\n",
    "    ax[i].set_ylabel(f'Curve {i+1}')\n",
    "    ax[i].legend()\n",
    "ax[-1].set_xlabel(\"Voltage Index (or Time)\")\n",
    "plt.suptitle(\"Simulated vs Experimental JV Curves\")\n",
    "plt.tight_layout()\n",
    "plt.show()\n"
   ]
  },
  {
   "cell_type": "code",
   "execution_count": null,
   "id": "968ff7d5-3f4a-4dab-bc94-e7a30db86f28",
   "metadata": {},
   "outputs": [],
   "source": [
    "_, par_input = check_plot(mean_map_across_walkers, x_step, 0)\n",
    "par_in = np.exp(par_input)\n",
    "def plot_uncertain_2(x,y):\n",
    "    plt.plot(x,y,color='black')\n",
    "\n",
    "plt.rcParams[\"figure.figsize\"] = [8, 10]\n",
    "plt.rcParams.update({'font.size': 16})\n",
    " \n",
    "fig = plt.figure()\n",
    "y_label = ['Conc.[cm-3]','Conc.[cm-3]', r'$\\tau$ [s]', 'SRV [cm/S]','SRV [cm/S]']\n",
    "x_labels = ['-1/530' ,'-1/580','-1/630','-1/680']\n",
    "title = ['Zn emitter doping' , 'Si base doping' ,'bulk lifetime','Front SRV', 'Rear SRV']\n",
    "\n",
    "for i in range(5):\n",
    "    plt.subplot(5,1,i+1)\n",
    "    \n",
    "    l1=plot_uncertain_2(x_step,par_in[:,i]) \n",
    "    plt.yscale('log') \n",
    "    plt.ylabel(y_label[i])\n",
    "    plt.xticks([-1000/530,-1000/580,-1000/630,-1000/680],[])\n",
    "    plt.title(title[i],fontsize=15,fontweight='bold')\n",
    "    plt.xlim(-1000/530,-1000/680)\n",
    "    \n",
    "  \n",
    "plt.xticks([-1000/530,-1000/580,-1000/630,-1000/680], x_labels)\n",
    "\n",
    "plt.xlabel(r'-1/T [1/C]') \n",
    "\n",
    "fig.align_labels()"
   ]
  },
  {
   "cell_type": "code",
   "execution_count": null,
   "id": "a67d38cf-3367-459d-b831-15e5d85d70d5",
   "metadata": {},
   "outputs": [],
   "source": [
    "###############-Most-Probable-index-###############"
   ]
  },
  {
   "cell_type": "code",
   "execution_count": null,
   "id": "af019210-362c-4009-a27d-5bb420ba51cd",
   "metadata": {},
   "outputs": [],
   "source": [
    "idx_map = np.argmax(flat_log_probs)\n",
    "theta_last = flat_samples[idx_map, :]  \n",
    "sim_JVs, _ = check_plot(theta_last, x, 1)  \n",
    "\n",
    "fig, ax = plt.subplots(5, 1, figsize=(8, 10))\n",
    "for i in range(5):\n",
    "    ax[i].plot(sim_JVs[i, :], '--', label='Simulated')\n",
    "    ax[i].plot(JV_exp[i, :], label='Experimental')\n",
    "    ax[i].set_ylabel(f'Curve {i+1}')\n",
    "    ax[i].legend()\n",
    "ax[-1].set_xlabel(\"Voltage Index (or Time)\")\n",
    "plt.suptitle(\"Simulated vs Experimental JV Curves\")\n",
    "plt.tight_layout()\n",
    "plt.show()"
   ]
  },
  {
   "cell_type": "code",
   "execution_count": null,
   "id": "4ae467ad-fb6b-4119-bb1e-77ca79d972dc",
   "metadata": {},
   "outputs": [],
   "source": [
    "x_step = np.linspace(min(x), max(x), 50)\n",
    "_, par_input = check_plot(flat_samples[-1,:], x_step, 0)\n",
    "par_in = np.exp(par_input)\n",
    "\n",
    "def plot_uncertain_2(x,y):\n",
    "    plt.plot(x,y,color='black')\n",
    "\n",
    "plt.rcParams[\"figure.figsize\"] = [8, 10]\n",
    "plt.rcParams.update({'font.size': 16})\n",
    " \n",
    "fig = plt.figure()\n",
    "y_label = ['Conc.[cm-3]','Conc.[cm-3]', r'$\\tau$ [s]', 'SRV [cm/S]','SRV [cm/S]']\n",
    "x_labels = ['-1/530' ,'-1/580','-1/630','-1/680']\n",
    "title = ['Zn emitter doping' , 'Si base doping' ,'bulk lifetime','Front SRV', 'Rear SRV']\n",
    "\n",
    "for i in range(5):\n",
    "    plt.subplot(5,1,i+1)\n",
    "    \n",
    "    l1=plot_uncertain_2(x_step,par_in[:,i]) \n",
    "    plt.yscale('log') \n",
    "    plt.ylabel(y_label[i])\n",
    "    plt.xticks([-1000/530,-1000/580,-1000/630,-1000/680],[])\n",
    "    plt.title(title[i],fontsize=15,fontweight='bold')\n",
    "    plt.xlim(-1000/530,-1000/680)\n",
    "    \n",
    "  \n",
    "plt.xticks([-1000/530,-1000/580,-1000/630,-1000/680], x_labels)\n",
    "\n",
    "plt.xlabel(r'-1/T [1/C]') \n",
    "\n",
    "fig.align_labels()"
   ]
  },
  {
   "cell_type": "code",
   "execution_count": null,
   "id": "fdccf0a9-18cb-464b-8ffd-8ff188666eb6",
   "metadata": {},
   "outputs": [],
   "source": [
    "##############-Mean-of-all-values-###############"
   ]
  },
  {
   "cell_type": "code",
   "execution_count": null,
   "id": "9234d1e4-d33f-441e-bfbb-2501bfef6d08",
   "metadata": {},
   "outputs": [],
   "source": [
    "idx_map = np.argmax(flat_log_probs)\n",
    "theta_last = flat_samples_2[-1, :]  # Shape: (15,)\n",
    "sim_JVs, _ = check_plot(theta_last, x, 1)  # x is your experimental temperature grid\n",
    "\n",
    "# ---- Plot simulated vs experimental JV curves ----\n",
    "\n",
    "fig, ax = plt.subplots(5, 1, figsize=(8, 10))\n",
    "for i in range(5):\n",
    "    ax[i].plot(sim_JVs[i, :], '--', label='Simulated')\n",
    "    ax[i].plot(JV_exp[i, :], label='Experimental')\n",
    "    ax[i].set_ylabel(f'Curve {i+1}')\n",
    "    ax[i].legend()\n",
    "ax[-1].set_xlabel(\"Voltage Index (or Time)\")\n",
    "plt.suptitle(\"Simulated vs Experimental JV Curves\")\n",
    "plt.tight_layout()\n",
    "plt.show()\n",
    "\n",
    "# ---- Extract material properties over a finer x grid ----\n",
    "\n",
    "x_step = np.linspace(min(x), max(x), 50)\n",
    "\n",
    "par_in = []\n",
    "for i in range(flat_samples_2.shape[0]):\n",
    "    try:\n",
    "        _, par_input = check_plot(flat_samples_2[i, :], x_step, 0)\n",
    "        if par_input.shape == (len(x_step), 5):\n",
    "            par_in.append(par_input)\n",
    "    except Exception as e:\n",
    "        print(f\"Skipping sample {i}: {e}\")\n",
    "\n",
    "par_in = np.array(par_in)  # Shape: (n_samples, 50, 5)\n",
    "print(par_in.shape)\n",
    "# ---- Discard burn-in (optional) ----\n",
    "if par_in.shape[0] > 2000:\n",
    "    par_in = par_in[2000:, :, :]\n",
    "\n",
    "# ---- Convert from log-space to actual values ----\n",
    "par_in = np.exp(par_in)  # Final shape: (n_good_samples, 50, 5)\n",
    "\n",
    "\n",
    "\n"
   ]
  },
  {
   "cell_type": "code",
   "execution_count": null,
   "id": "82b58949-52bc-4817-949f-ef5421aa359f",
   "metadata": {},
   "outputs": [],
   "source": [
    "def plot_uncertain(x,y):\n",
    "    \n",
    "    mu = np.mean(y,axis = 0)\n",
    "    std = np.std(y, axis = 0)\n",
    "    plt.fill_between(x, mu+std,mu-std,alpha=0.1,color='grey')\n",
    "    plt.plot(x,mu,color='black')\n",
    "\n",
    "plt.rcParams[\"figure.figsize\"] = [8, 10]\n",
    "plt.rcParams.update({'font.size': 16})\n",
    " \n",
    "fig = plt.figure()\n",
    "y_label = ['Conc.[cm-3]','Conc.[cm-3]', r'$\\tau$ [s]', 'SRV [cm/S]','SRV [cm/S]']\n",
    "x_labels = ['-1/530' ,'-1/580','-1/630','-1/680']\n",
    "title = ['Zn emitter doping' , 'Si base doping' ,'bulk lifetime','Front SRV', 'Rear SRV']\n",
    "\n",
    "\n",
    "for i in range(5):\n",
    "    plt.subplot(5,1,i+1)\n",
    "    \n",
    "    l1=plot_uncertain(x_step,par_in[:,:,i]) \n",
    "   \n",
    "    plt.yscale('log') \n",
    "    plt.ylabel(y_label[i])\n",
    "    plt.xticks([-1000/530,-1000/580,-1000/630,-1000/680],[])\n",
    "    plt.title(title[i],fontsize=15,fontweight='bold')\n",
    "    plt.xlim(-1000/530,-1000/680)\n",
    "    \n",
    "  \n",
    "plt.xticks([-1000/530,-1000/580,-1000/630,-1000/680], x_labels)\n",
    "\n",
    "plt.xlabel(r'-1/T [1/C]') \n",
    "\n",
    "fig.align_labels()"
   ]
  },
  {
   "cell_type": "code",
   "execution_count": null,
   "id": "bdd5d2fe-3851-42f0-9f65-a80e4115cb4f",
   "metadata": {},
   "outputs": [],
   "source": [
    "for i in range(5):\n",
    "    plt.subplot(5,1,i+1)\n",
    "    plt.plot(samples[:, :, i])"
   ]
  }
 ],
 "metadata": {
  "kernelspec": {
   "display_name": "Python 3 (ipykernel)",
   "language": "python",
   "name": "python3"
  },
  "language_info": {
   "codemirror_mode": {
    "name": "ipython",
    "version": 3
   },
   "file_extension": ".py",
   "mimetype": "text/x-python",
   "name": "python",
   "nbconvert_exporter": "python",
   "pygments_lexer": "ipython3",
   "version": "3.12.3"
  }
 },
 "nbformat": 4,
 "nbformat_minor": 5
}
