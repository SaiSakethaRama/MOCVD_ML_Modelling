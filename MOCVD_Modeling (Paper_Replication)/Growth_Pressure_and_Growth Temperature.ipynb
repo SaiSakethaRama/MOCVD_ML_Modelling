{
 "cells": [
  {
   "cell_type": "code",
   "execution_count": null,
   "id": "cbface3c-e86e-4f0f-8eb1-b20044fce518",
   "metadata": {},
   "outputs": [],
   "source": [
    "def check_plot(theta,x,sim):\n",
    "    \n",
    "    a1,b1, c1, d1,e1,f1,a2,b2,c2, d2,e2,f2, a3,b3,c3,d3,e3,f3, a4,b4,c4,d4,e4,f4, a5,b5,c5,d5,e5,f5 = theta\n",
    "\n",
    "    emitter_doping = a1*np.log(-1/x) + b1*x + c1*logP + d1*P + e1*x*logP + f1\n",
    "    back_doping    = a2*np.log(-1/x) + b2*x + c2*logP + d2*P + e2*x*logP + f2\n",
    "    tau            = a3*np.log(-1/x) + b3*x + c3*logP + d3*P + e3*x*logP + f3\n",
    "    fsrv           = a4*np.log(-1/x) + b4*x + c4*logP + d4*P + e4*x*logP + f4\n",
    "    rsrv           = a5*np.log(-1/x) + b5*x + c5*logP + d5*P + e5*x*logP + f5      \n",
    "    \n",
    "    par_input = 10*np.stack((emitter_doping,back_doping,tau,fsrv,rsrv),axis=-1)\n",
    "    if sim == 0 :\n",
    "        unnorm_par = scaler.inverse_transform(par_input)\n",
    "        return par_input,unnorm_par\n",
    "        \n",
    "    sim_curves= reg.predict(par_input)\n",
    "           \n",
    "  \n",
    "    return sim_curves, par_input"
   ]
  },
  {
   "cell_type": "code",
   "execution_count": null,
   "id": "da44aaea-66d5-4ca2-ae01-c87a77aede91",
   "metadata": {},
   "outputs": [],
   "source": [
    "def log_probability(theta,x,y,sigma):\n",
    "    a1,b1, c1, d1,e1,f1,a2,b2,c2, d2,e2,f2, a3,b3,c3,d3,e3,f3, a4,b4,c4,d4,e4,f4, a5,b5,c5,d5,e5,f5 = theta\n",
    "    emitter_doping = a1*np.log(-1/x) + b1*x + c1*np.log(P) + d1*P + e1*x*np.log(P) + f1\n",
    "    back_doping    = a2*np.log(-1/x) + b2*x + c2*np.log(P) + d2*P + e2*x*np.log(P) + f2\n",
    "    tau            = a3*np.log(-1/x) + b3*x + c3*np.log(P) + d3*P + e3*x*np.log(P) + f3\n",
    "    fsrv           = a4*np.log(-1/x) + b4*x + c4*np.log(P) + d4*P + e4*x*np.log(P) + f4\n",
    "    rsrv           = a5*np.log(-1/x) + b5*x + c5*np.log(P) + d5*P + e5*x*np.log(P) + f5    \n",
    "\n",
    "    par_input = 10*np.stack((emitter_doping,back_doping,tau,fsrv,rsrv),axis=-1)\n",
    "    coeff = [a1,b1, c1, d1,e1,f1,a2,b2,c2, d2,e2,f2, a3,b3,c3,d3,e3,f3, a4,b4,c4,d4,e4,f4, a5,b5,c5,d5,e5,f5]\n",
    "\n",
    "    if all(-10<x<10 for x in coeff) and max(np.abs(coeff[0::3]))<5:\n",
    "    \n",
    "        if np.max(par_input)<1 and np.min(par_input)>0:\n",
    "            sim_curves= reg.predict(par_input)       \n",
    "        \n",
    "            return log_norm_pdf(sim_curves, y,sigma)\n",
    "        return -np.inf\n",
    "    return -np.inf"
   ]
  },
  {
   "cell_type": "code",
   "execution_count": null,
   "id": "ed28d86f-684e-4947-be84-7a2de7fb1d25",
   "metadata": {},
   "outputs": [],
   "source": [
    "ndim = 30         # 30 parameters: a, b, c,d,e,f × 5 descriptors\n",
    "nwalkers = 60       # Number of walkers\n",
    "nruns = 1500    # Number of steps\n",
    "sigma = 1e-6        # Noise level\n",
    "Temp_i = 0          # Just indexing; no need for ntemps here\n",
    "\n",
    "initial = np.tile([0, 0, 0, 0,0,0], 5)/10 + 1e-4*np.random.randn(nwalkers, ndim)\n",
    "\n",
    "sampler = emcee.EnsembleSampler(nwalkers, ndim, log_prob)\n",
    "\n",
    "sampler.run_mcmc(initial, nruns, progress=True)\n",
    "samples = sampler.get_chain()             # Shape: (nruns, nwalkers, ndim)\n",
    "#flat_samples = sampler.get_chain(discard=100, thin=10, flat=True)  # Flattened, thinned"
   ]
  }
 ],
 "metadata": {
  "kernelspec": {
   "display_name": "Python 3 (ipykernel)",
   "language": "python",
   "name": "python3"
  },
  "language_info": {
   "codemirror_mode": {
    "name": "ipython",
    "version": 3
   },
   "file_extension": ".py",
   "mimetype": "text/x-python",
   "name": "python",
   "nbconvert_exporter": "python",
   "pygments_lexer": "ipython3",
   "version": "3.12.3"
  }
 },
 "nbformat": 4,
 "nbformat_minor": 5
}
