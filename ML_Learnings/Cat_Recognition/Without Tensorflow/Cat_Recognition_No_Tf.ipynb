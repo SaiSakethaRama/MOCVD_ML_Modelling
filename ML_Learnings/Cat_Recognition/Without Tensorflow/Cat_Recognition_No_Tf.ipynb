{
 "cells": [
  {
   "cell_type": "code",
   "execution_count": 8,
   "id": "f559b3c7-3e5e-4b9a-8713-9f166c74dd3f",
   "metadata": {},
   "outputs": [
    {
     "name": "stdout",
     "output_type": "stream",
     "text": [
      "(12288, 209) (12288, 50) (1, 209) (1, 50)\n",
      "The loop: 0, The loss: 0.6505130165540387\n",
      "The loop: 1000, The loss: 0.11066620990171384\n",
      "The loop: 2000, The loss: 0.0380463381955734\n",
      "The loop: 3000, The loss: 0.019946330607220335\n",
      "The loop: 4000, The loss: 0.01274441391416835\n",
      "The loop: 5000, The loss: 0.009089579733359443\n",
      "The loop: 6000, The loss: 0.006933518869708472\n",
      "The loop: 7000, The loss: 0.005543477144465506\n",
      "The loop: 8000, The loss: 0.004579329278163325\n",
      "The loop: 9000, The loss: 0.0038792450875402007\n",
      "The loop: 10000, The loss: 0.003350148564807404\n",
      "The loop: 11000, The loss: 0.0029392926429446823\n",
      "The loop: 12000, The loss: 0.002610532398501876\n",
      "Final Prediction\n",
      "Loss: 1.479567449621974\n",
      "Accuracy on test set: 70.00%\n",
      "Correct predictions: 35 / 50\n"
     ]
    }
   ],
   "source": [
    "import h5py\n",
    "import numpy as np\n",
    "import math\n",
    "\n",
    "def load_dataset():\n",
    "    train_dataset = h5py.File(r\"C:\\Users\\pssrg\\Downloads\\Image-Classification-Cat-vs-Non-Cat-master\\Image-Classification-Cat-vs-Non-Cat-master\\datasets\\train_catvnoncat.h5\", \"r\")\n",
    "    test_dataset = h5py.File(r\"C:\\Users\\pssrg\\Downloads\\Image-Classification-Cat-vs-Non-Cat-master\\Image-Classification-Cat-vs-Non-Cat-master\\datasets\\test_catvnoncat.h5\", \"r\")\n",
    "\n",
    "    # Load training data\n",
    "    X_train = np.array(train_dataset[\"train_set_x\"][:])  # shape: (m_train, 64, 64, 3)\n",
    "    Y_train = np.array(train_dataset[\"train_set_y\"][:])  # shape: (m_train,)\n",
    "\n",
    "    # Load test data\n",
    "    X_test = np.array(test_dataset[\"test_set_x\"][:])     # shape: (m_test, 64, 64, 3)\n",
    "    Y_test = np.array(test_dataset[\"test_set_y\"][:])     # shape: (m_test,)\n",
    "\n",
    "    # Reshape labels to (1, m)\n",
    "    Y_train = Y_train.reshape(1, Y_train.shape[0])\n",
    "    Y_test = Y_test.reshape(1, Y_test.shape[0])\n",
    "\n",
    "    return X_train, Y_train, X_test, Y_test\n",
    "X_train, Y_train, X_test, Y_test = load_dataset()\n",
    "\n",
    "# Normalize pixel values to range [0, 1]\n",
    "X_train = X_train / 255.\n",
    "X_test = X_test / 255.\n",
    "\n",
    "# Flatten each image to a column vector\n",
    "X_train = X_train.reshape(X_train.shape[0], -1).T  # shape: (12288, m_train)\n",
    "X_test = X_test.reshape(X_test.shape[0], -1).T     # shape: (12288, m_test)\n",
    "print(X_train.shape, X_test.shape, Y_train.shape, Y_test.shape)\n",
    "\n",
    "def logistic_regression(z):\n",
    "    return 1/(1+np.exp(-z))\n",
    "\n",
    "def ReLu(z):\n",
    "    return np.maximum(0,z)\n",
    "\n",
    "def ReLu_derivative(Z):\n",
    "    return (Z > 0).astype(float)\n",
    "\n",
    "def Training(X, Y):\n",
    "    W1 = np.random.randn(X.shape[0], 20)*np.sqrt(2 / X.shape[0])\n",
    "    b1 = np.zeros((20,1))\n",
    "    W2 = np.random.randn(20,1)*np.sqrt(2 / 20)\n",
    "    b2 = np.zeros((1,1))\n",
    "    training = 13000\n",
    "    lr = 0.005\n",
    "    for i in range(training):\n",
    "        Z1 = np.dot(W1.T,X) + b1\n",
    "        A1 = ReLu(Z1)\n",
    "        Z2 = np.dot(W2.T,A1) + b2\n",
    "        a = logistic_regression(Z2)\n",
    "        loss = -np.mean(Y*np.log(a + 1e-8) + (1-Y)*np.log(1-a + 1e-8))\n",
    "        dZ2 = a - Y\n",
    "        dZ1 = np.dot(W2, dZ2)*ReLu_derivative(Z1)\n",
    "        dW2 = np.dot(A1, dZ2.T)/X.shape[1]\n",
    "        db2 = np.sum(dZ2, axis = 1, keepdims = True)/dZ2.shape[1]\n",
    "        dW1 = np.dot(X, dZ1.T)/X.shape[1]\n",
    "        db1 = np.sum(dZ1, axis = 1, keepdims = True)/dZ1.shape[1]\n",
    "        W1 -= lr*dW1\n",
    "        b1 -= lr*db1\n",
    "        W2 -= lr*dW2\n",
    "        b2 -= lr*db2        \n",
    "        if i%1000 == 0:\n",
    "            print(f\"The loop: {i}, The loss: {loss}\")\n",
    "    return W1, W2, b1, b2\n",
    "\n",
    "def Testing(X,Y, W1, W2, b1, b2):\n",
    "    Z1 = np.dot(W1.T,X) + b1\n",
    "    A1 = ReLu(Z1)\n",
    "    Z2 = np.dot(W2.T,A1) + b2\n",
    "    a = logistic_regression(Z2)\n",
    "    loss_test = -np.mean(Y*np.log(a + 1e-8) + (1-Y)*np.log(1-a + 1e-8))\n",
    "    predictions = (a > 0.5).astype(int)\n",
    "    print(\"Final Prediction\")\n",
    "    print(f\"Loss: {loss_test}\")\n",
    "    return predictions\n",
    "    \n",
    "\n",
    "W1, W2, b1, b2 = Training(X_train, Y_train)\n",
    "\n",
    "p = Testing(X_test,Y_test, W1, W2, b1, b2)\n",
    "accuracy = np.mean(p == Y_test)\n",
    "print(f\"Accuracy on test set: {accuracy*100:.2f}%\")\n",
    "correct = np.sum(p == Y_test)\n",
    "print(f\"Correct predictions: {correct} / {Y_test.shape[1]}\")\n",
    "from PIL import Image\n",
    "import matplotlib.pyplot as plt\n",
    "\n",
    "def predict_image(path, W1, W2, b1, b2):\n",
    "    # Load and preprocess image\n",
    "    img = Image.open(path).resize((64, 64))\n",
    "    img_array = np.array(img) / 255.0  # Normalize\n",
    "    if img_array.shape != (64, 64, 3):\n",
    "        print(\"Image is not in expected format (64x64x3).\")\n",
    "        return\n",
    "    x = img_array.reshape(-1, 1)\n",
    "    Z1 = np.dot(W1.T, x) + b1\n",
    "    A1 = ReLu(Z1)\n",
    "    Z2 = np.dot(W2.T, A1) + b2\n",
    "    a = logistic_regression(Z2)\n",
    "    prediction = int(a > 0.5)\n",
    "    plt.imshow(img)\n",
    "    plt.axis('off')\n",
    "    plt.title(\"Prediction: \" + (\"Cat \" if prediction == 1 else \"Not a Cat \"))\n",
    "    plt.show()\n"
   ]
  },
  {
   "cell_type": "code",
   "execution_count": 6,
   "id": "20b4d4cf-c814-4e32-8039-298e8dfece09",
   "metadata": {},
   "outputs": [
    {
     "name": "stderr",
     "output_type": "stream",
     "text": [
      "C:\\Users\\pssrg\\AppData\\Local\\Temp\\ipykernel_39720\\4282774421.py:103: DeprecationWarning: Conversion of an array with ndim > 0 to a scalar is deprecated, and will error in future. Ensure you extract a single element from your array before performing this operation. (Deprecated NumPy 1.25.)\n",
      "  prediction = int(a > 0.5)\n"
     ]
    },
    {
     "data": {
      "image/png": "[encoded data removed]",
      "text/plain": [
       "<Figure size 640x480 with 1 Axes>"
      ]
     },
     "metadata": {},
     "output_type": "display_data"
    }
   ],
   "source": [
    "predict_image(r\"C:\\Users\\pssrg\\Downloads\\Apples-184940975-770x533-1_jpg.webp\", W1, W2, b1,b2)\n"
   ]
  },
  {
   "cell_type": "code",
   "execution_count": null,
   "id": "5afbb8ab-0bd2-4bde-93c0-29c9e458b28d",
   "metadata": {},
   "outputs": [],
   "source": []
  }
 ],
 "metadata": {
  "kernelspec": {
   "display_name": "Python 3 (ipykernel)",
   "language": "python",
   "name": "python3"
  },
  "language_info": {
   "codemirror_mode": {
    "name": "ipython",
    "version": 3
   },
   "file_extension": ".py",
   "mimetype": "text/x-python",
   "name": "python",
   "nbconvert_exporter": "python",
   "pygments_lexer": "ipython3",
   "version": "3.13.1"
  }
 },
 "nbformat": 4,
 "nbformat_minor": 5
}
